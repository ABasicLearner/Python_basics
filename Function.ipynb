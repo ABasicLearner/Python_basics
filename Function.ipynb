{
 "cells": [
  {
   "cell_type": "code",
   "execution_count": 1,
   "id": "1b1c31a5",
   "metadata": {},
   "outputs": [],
   "source": [
    "def test1(a, b, c, d):\n",
    "    return a, b, c, d"
   ]
  },
  {
   "cell_type": "code",
   "execution_count": 2,
   "id": "e4d964ff",
   "metadata": {},
   "outputs": [
    {
     "data": {
      "text/plain": [
       "(2, 5, 68, 9)"
      ]
     },
     "execution_count": 2,
     "metadata": {},
     "output_type": "execute_result"
    }
   ],
   "source": [
    "test1(2,5,68,9)"
   ]
  },
  {
   "cell_type": "markdown",
   "id": "22db417f",
   "metadata": {},
   "source": [
    "If I want to pass more than 4 arguments in the above function I need to create a new function. \n",
    "\n",
    "Because if I pass more or fewer than four arguments to the function test1(), will get a TypeError exception."
   ]
  },
  {
   "cell_type": "code",
   "execution_count": 3,
   "id": "7466e6c1",
   "metadata": {},
   "outputs": [],
   "source": [
    "# it is used to write functions that can handle an arbitrary number of arguments\n",
    "def test2(*n_args):    # the asterisk(*) indicates that the function can accept any number of arguments.\n",
    "    return n_args"
   ]
  },
  {
   "cell_type": "code",
   "execution_count": 4,
   "id": "1551107b",
   "metadata": {},
   "outputs": [
    {
     "data": {
      "text/plain": [
       "(2, 5, 6, 7, 9, 11, 35, 2, 1, 0)"
      ]
     },
     "execution_count": 4,
     "metadata": {},
     "output_type": "execute_result"
    }
   ],
   "source": [
    "test2(2, 5, 6, 7, 9, 11, 35, 2, 1, 0)"
   ]
  },
  {
   "cell_type": "code",
   "execution_count": 5,
   "id": "e1a12602",
   "metadata": {},
   "outputs": [
    {
     "data": {
      "text/plain": [
       "(2, {0, 4, 5, 22}, 6, 7, 9, 'Priti', 35, 2, 1, 0)"
      ]
     },
     "execution_count": 5,
     "metadata": {},
     "output_type": "execute_result"
    }
   ],
   "source": [
    "test2(2, {5, 0, 22, 4}, 6, 7, 9, \"Priti\", 35, 2, 1, 0)"
   ]
  },
  {
   "cell_type": "code",
   "execution_count": 6,
   "id": "ec6a83f1",
   "metadata": {},
   "outputs": [],
   "source": [
    "# This function throws an error after running the code\n",
    "def test3(*n_args, x):    \n",
    "    return n_args, x"
   ]
  },
  {
   "cell_type": "code",
   "execution_count": 7,
   "id": "c5a17f98",
   "metadata": {},
   "outputs": [
    {
     "ename": "TypeError",
     "evalue": "test3() missing 1 required keyword-only argument: 'x'",
     "output_type": "error",
     "traceback": [
      "\u001b[1;31m---------------------------------------------------------------------------\u001b[0m",
      "\u001b[1;31mTypeError\u001b[0m                                 Traceback (most recent call last)",
      "\u001b[1;32m~\\AppData\\Local\\Temp\\ipykernel_13792\\828941563.py\u001b[0m in \u001b[0;36m<module>\u001b[1;34m\u001b[0m\n\u001b[1;32m----> 1\u001b[1;33m \u001b[0mtest3\u001b[0m\u001b[1;33m(\u001b[0m\u001b[1;36m2\u001b[0m\u001b[1;33m,\u001b[0m \u001b[1;36m5\u001b[0m\u001b[1;33m,\u001b[0m \u001b[1;36m7\u001b[0m\u001b[1;33m,\u001b[0m \u001b[1;36m8\u001b[0m\u001b[1;33m,\u001b[0m \u001b[1;36m9\u001b[0m\u001b[1;33m,\u001b[0m \u001b[1;36m10\u001b[0m\u001b[1;33m)\u001b[0m\u001b[1;33m\u001b[0m\u001b[1;33m\u001b[0m\u001b[0m\n\u001b[0m",
      "\u001b[1;31mTypeError\u001b[0m: test3() missing 1 required keyword-only argument: 'x'"
     ]
    }
   ],
   "source": [
    "test3(2, 5, 7, 8, 9, 10)"
   ]
  },
  {
   "cell_type": "markdown",
   "id": "83a2ec24",
   "metadata": {},
   "source": [
    "###### TypeError: test3() missing 1 required keyword-only argument: 'x'\n"
   ]
  },
  {
   "cell_type": "code",
   "execution_count": 8,
   "id": "45ab56b3",
   "metadata": {},
   "outputs": [],
   "source": [
    "# this error indicates that the argument x cannot be specified after the variable-length parameter *n_args"
   ]
  },
  {
   "cell_type": "code",
   "execution_count": 9,
   "id": "26501d4a",
   "metadata": {},
   "outputs": [
    {
     "data": {
      "text/plain": [
       "((2, 5, 7, 8, 9, 10), 1898)"
      ]
     },
     "execution_count": 9,
     "metadata": {},
     "output_type": "execute_result"
    }
   ],
   "source": [
    "# to handle above error\n",
    "test3(2, 5, 7, 8, 9, 10, x=1898)"
   ]
  },
  {
   "cell_type": "code",
   "execution_count": 10,
   "id": "e71e2f1a",
   "metadata": {},
   "outputs": [],
   "source": [
    "# we can also do this\n",
    "def test4(x, *n_args):    \n",
    "    return n_args, x"
   ]
  },
  {
   "cell_type": "code",
   "execution_count": 11,
   "id": "d0e60d98",
   "metadata": {},
   "outputs": [
    {
     "data": {
      "text/plain": [
       "(('Wednesday', 899, {12.78, 987, 'abcd'}), 1)"
      ]
     },
     "execution_count": 11,
     "metadata": {},
     "output_type": "execute_result"
    }
   ],
   "source": [
    "# It by default takes first argument as the value of x as x is the first argument in the function definition\n",
    "test4(1, \"Wednesday\", 899, {12.78, \"abcd\", 987})"
   ]
  },
  {
   "cell_type": "code",
   "execution_count": 12,
   "id": "4b6937e0",
   "metadata": {},
   "outputs": [],
   "source": [
    "def test5(*args):\n",
    "    for i in args:\n",
    "        if type(i) == list:\n",
    "            print(i)"
   ]
  },
  {
   "cell_type": "code",
   "execution_count": 13,
   "id": "87879c25",
   "metadata": {},
   "outputs": [
    {
     "name": "stdout",
     "output_type": "stream",
     "text": [
      "[3, 7, 9, 10]\n"
     ]
    }
   ],
   "source": [
    "test5({1, 5, 6}, \"PC\", [3, 7, 9, 10], 56.8, 90)"
   ]
  },
  {
   "cell_type": "code",
   "execution_count": 14,
   "id": "657babcd",
   "metadata": {},
   "outputs": [
    {
     "name": "stdout",
     "output_type": "stream",
     "text": [
      "[3, 7, 9, 10]\n",
      "[89, 799, 80, 9]\n"
     ]
    }
   ],
   "source": [
    "test5(\"PC\", [3, 7, 9, 10], 56.8, 90, [89, 799, 80, 9])"
   ]
  },
  {
   "cell_type": "code",
   "execution_count": 15,
   "id": "2987101c",
   "metadata": {},
   "outputs": [],
   "source": [
    "\"\"\" \n",
    "but the return type of print is null \n",
    "that means if I want to do any kind of operation on the result then I won't be able to do it\n",
    "\"\"\"\n",
    "\n",
    "# We can modify the function as follows:\n",
    "l = []\n",
    "def test6(*args):  # args is not a reseved keyword \n",
    "    for i in args:\n",
    "        if type(i) == list:\n",
    "            l.append(i)\n",
    "    return l"
   ]
  },
  {
   "cell_type": "code",
   "execution_count": 16,
   "id": "923835fd",
   "metadata": {},
   "outputs": [
    {
     "data": {
      "text/plain": [
       "[[3, 7, 9, 10], [89, 799, 80, 9]]"
      ]
     },
     "execution_count": 16,
     "metadata": {},
     "output_type": "execute_result"
    }
   ],
   "source": [
    "test6(\"PC\", [3, 7, 9, 10], 56.8, 90, [89, 799, 80, 9])"
   ]
  },
  {
   "cell_type": "code",
   "execution_count": 17,
   "id": "41e8508d",
   "metadata": {},
   "outputs": [],
   "source": [
    "# this function uses the double asterisk (**) operator to create a configuration dictionary for a database\n",
    "# i.e. to make funtion understand that accept the input parameters as key-value pair\n",
    "def test7(**args):  # A variable number of keyword arguments\n",
    "    return args  # No matter what kind of data you pass it will return the values in a dictionary"
   ]
  },
  {
   "cell_type": "code",
   "execution_count": 18,
   "id": "a37a3deb",
   "metadata": {},
   "outputs": [
    {
     "data": {
      "text/plain": [
       "{'a': [34, 67, 98], 'b': '56778', 'c': 'Hello', 'd': 568987, 'e': 78.89}"
      ]
     },
     "execution_count": 18,
     "metadata": {},
     "output_type": "execute_result"
    }
   ],
   "source": [
    "test7(a = [34, 67, 98], b = \"56778\", c = \"Hello\", d = 568987, e = 78.89)\n",
    "# If you don't mention 'a=', 'b=', etc. it'll throw an error"
   ]
  },
  {
   "cell_type": "code",
   "execution_count": 22,
   "id": "8b56e7de",
   "metadata": {},
   "outputs": [],
   "source": [
    "# lambda can be used where a small, anonymous function is needed\n",
    "x = lambda a, b: a*b"
   ]
  },
  {
   "cell_type": "code",
   "execution_count": 23,
   "id": "d1b202a9",
   "metadata": {},
   "outputs": [
    {
     "data": {
      "text/plain": [
       "64"
      ]
     },
     "execution_count": 23,
     "metadata": {},
     "output_type": "execute_result"
    }
   ],
   "source": [
    "x(4, 16)"
   ]
  },
  {
   "cell_type": "code",
   "execution_count": 24,
   "id": "f4c1ac82",
   "metadata": {},
   "outputs": [
    {
     "data": {
      "text/plain": [
       "(120, 22)"
      ]
     },
     "execution_count": 24,
     "metadata": {},
     "output_type": "execute_result"
    }
   ],
   "source": [
    "y = lambda a, b: (a*b, a+b)\n",
    "y(12, 10)"
   ]
  },
  {
   "cell_type": "code",
   "execution_count": 25,
   "id": "7c93a3cd",
   "metadata": {},
   "outputs": [],
   "source": [
    "t = lambda *a : a"
   ]
  },
  {
   "cell_type": "code",
   "execution_count": 26,
   "id": "0c769d26",
   "metadata": {},
   "outputs": [
    {
     "data": {
      "text/plain": [
       "(12, 34, 89)"
      ]
     },
     "execution_count": 26,
     "metadata": {},
     "output_type": "execute_result"
    }
   ],
   "source": [
    "t(12, 34, 89)"
   ]
  },
  {
   "cell_type": "code",
   "execution_count": null,
   "id": "b2ec9a58",
   "metadata": {},
   "outputs": [],
   "source": []
  }
 ],
 "metadata": {
  "kernelspec": {
   "display_name": "Python 3 (ipykernel)",
   "language": "python",
   "name": "python3"
  },
  "language_info": {
   "codemirror_mode": {
    "name": "ipython",
    "version": 3
   },
   "file_extension": ".py",
   "mimetype": "text/x-python",
   "name": "python",
   "nbconvert_exporter": "python",
   "pygments_lexer": "ipython3",
   "version": "3.9.13"
  }
 },
 "nbformat": 4,
 "nbformat_minor": 5
}
