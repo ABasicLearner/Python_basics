{
 "cells": [
  {
   "cell_type": "code",
   "execution_count": 1,
   "id": "450efdb1",
   "metadata": {},
   "outputs": [],
   "source": [
    "import pandas as pd"
   ]
  },
  {
   "cell_type": "code",
   "execution_count": 3,
   "id": "dd91ac32",
   "metadata": {},
   "outputs": [],
   "source": [
    "df = pd.read_html('https://www.basketball-reference.com/leagues/NBA_2015_totals.html')"
   ]
  },
  {
   "cell_type": "code",
   "execution_count": 4,
   "id": "66e5bddb",
   "metadata": {},
   "outputs": [
    {
     "data": {
      "text/plain": [
       "[      Rk          Player Pos Age   Tm   G  GS    MP   FG  FGA  ...   FT%  ORB  \\\n",
       " 0      1      Quincy Acy  PF  24  NYK  68  22  1287  152  331  ...  .784   79   \n",
       " 1      2    Jordan Adams  SG  20  MEM  30   0   248   35   86  ...  .609    9   \n",
       " 2      3    Steven Adams   C  21  OKC  70  67  1771  217  399  ...  .502  199   \n",
       " 3      4     Jeff Adrien  PF  28  MIN  17   0   215   19   44  ...  .579   23   \n",
       " 4      5   Arron Afflalo  SG  29  TOT  78  72  2502  375  884  ...  .843   27   \n",
       " ..   ...             ...  ..  ..  ...  ..  ..   ...  ...  ...  ...   ...  ...   \n",
       " 670  490  Thaddeus Young  PF  26  TOT  76  68  2434  451  968  ...  .655  127   \n",
       " 671  490  Thaddeus Young  PF  26  MIN  48  48  1605  289  641  ...  .682   75   \n",
       " 672  490  Thaddeus Young  PF  26  BRK  28  20   829  162  327  ...  .606   52   \n",
       " 673  491     Cody Zeller   C  22  CHO  62  45  1487  172  373  ...  .774   97   \n",
       " 674  492    Tyler Zeller   C  25  BOS  82  59  1731  340  619  ...  .823  146   \n",
       " \n",
       "      DRB  TRB  AST  STL BLK  TOV   PF   PTS  \n",
       " 0    222  301   68   27  22   60  147   398  \n",
       " 1     19   28   16   16   7   14   24    94  \n",
       " 2    324  523   66   38  86   99  222   537  \n",
       " 3     54   77   15    4   9    9   30    60  \n",
       " 4    220  247  129   41   7  116  167  1035  \n",
       " ..   ...  ...  ...  ...  ..  ...  ...   ...  \n",
       " 670  284  411  173  124  25  117  171  1071  \n",
       " 671  170  245  135   86  17   75  115   685  \n",
       " 672  114  166   38   38   8   42   56   386  \n",
       " 673  265  362  100   34  49   62  156   472  \n",
       " 674  319  465  113   18  52   76  205   833  \n",
       " \n",
       " [675 rows x 30 columns]]"
      ]
     },
     "execution_count": 4,
     "metadata": {},
     "output_type": "execute_result"
    }
   ],
   "source": [
    "df"
   ]
  },
  {
   "cell_type": "code",
   "execution_count": 5,
   "id": "03fad107",
   "metadata": {},
   "outputs": [
    {
     "data": {
      "text/plain": [
       "list"
      ]
     },
     "execution_count": 5,
     "metadata": {},
     "output_type": "execute_result"
    }
   ],
   "source": [
    "type(df)"
   ]
  },
  {
   "cell_type": "code",
   "execution_count": 6,
   "id": "e497b87f",
   "metadata": {},
   "outputs": [
    {
     "data": {
      "text/plain": [
       "1"
      ]
     },
     "execution_count": 6,
     "metadata": {},
     "output_type": "execute_result"
    }
   ],
   "source": [
    "len(df)"
   ]
  },
  {
   "cell_type": "code",
   "execution_count": 7,
   "id": "b2665612",
   "metadata": {},
   "outputs": [
    {
     "data": {
      "text/html": [
       "<div>\n",
       "<style scoped>\n",
       "    .dataframe tbody tr th:only-of-type {\n",
       "        vertical-align: middle;\n",
       "    }\n",
       "\n",
       "    .dataframe tbody tr th {\n",
       "        vertical-align: top;\n",
       "    }\n",
       "\n",
       "    .dataframe thead th {\n",
       "        text-align: right;\n",
       "    }\n",
       "</style>\n",
       "<table border=\"1\" class=\"dataframe\">\n",
       "  <thead>\n",
       "    <tr style=\"text-align: right;\">\n",
       "      <th></th>\n",
       "      <th>Rk</th>\n",
       "      <th>Player</th>\n",
       "      <th>Pos</th>\n",
       "      <th>Age</th>\n",
       "      <th>Tm</th>\n",
       "      <th>G</th>\n",
       "      <th>GS</th>\n",
       "      <th>MP</th>\n",
       "      <th>FG</th>\n",
       "      <th>FGA</th>\n",
       "      <th>...</th>\n",
       "      <th>FT%</th>\n",
       "      <th>ORB</th>\n",
       "      <th>DRB</th>\n",
       "      <th>TRB</th>\n",
       "      <th>AST</th>\n",
       "      <th>STL</th>\n",
       "      <th>BLK</th>\n",
       "      <th>TOV</th>\n",
       "      <th>PF</th>\n",
       "      <th>PTS</th>\n",
       "    </tr>\n",
       "  </thead>\n",
       "  <tbody>\n",
       "    <tr>\n",
       "      <th>0</th>\n",
       "      <td>1</td>\n",
       "      <td>Quincy Acy</td>\n",
       "      <td>PF</td>\n",
       "      <td>24</td>\n",
       "      <td>NYK</td>\n",
       "      <td>68</td>\n",
       "      <td>22</td>\n",
       "      <td>1287</td>\n",
       "      <td>152</td>\n",
       "      <td>331</td>\n",
       "      <td>...</td>\n",
       "      <td>.784</td>\n",
       "      <td>79</td>\n",
       "      <td>222</td>\n",
       "      <td>301</td>\n",
       "      <td>68</td>\n",
       "      <td>27</td>\n",
       "      <td>22</td>\n",
       "      <td>60</td>\n",
       "      <td>147</td>\n",
       "      <td>398</td>\n",
       "    </tr>\n",
       "    <tr>\n",
       "      <th>1</th>\n",
       "      <td>2</td>\n",
       "      <td>Jordan Adams</td>\n",
       "      <td>SG</td>\n",
       "      <td>20</td>\n",
       "      <td>MEM</td>\n",
       "      <td>30</td>\n",
       "      <td>0</td>\n",
       "      <td>248</td>\n",
       "      <td>35</td>\n",
       "      <td>86</td>\n",
       "      <td>...</td>\n",
       "      <td>.609</td>\n",
       "      <td>9</td>\n",
       "      <td>19</td>\n",
       "      <td>28</td>\n",
       "      <td>16</td>\n",
       "      <td>16</td>\n",
       "      <td>7</td>\n",
       "      <td>14</td>\n",
       "      <td>24</td>\n",
       "      <td>94</td>\n",
       "    </tr>\n",
       "    <tr>\n",
       "      <th>2</th>\n",
       "      <td>3</td>\n",
       "      <td>Steven Adams</td>\n",
       "      <td>C</td>\n",
       "      <td>21</td>\n",
       "      <td>OKC</td>\n",
       "      <td>70</td>\n",
       "      <td>67</td>\n",
       "      <td>1771</td>\n",
       "      <td>217</td>\n",
       "      <td>399</td>\n",
       "      <td>...</td>\n",
       "      <td>.502</td>\n",
       "      <td>199</td>\n",
       "      <td>324</td>\n",
       "      <td>523</td>\n",
       "      <td>66</td>\n",
       "      <td>38</td>\n",
       "      <td>86</td>\n",
       "      <td>99</td>\n",
       "      <td>222</td>\n",
       "      <td>537</td>\n",
       "    </tr>\n",
       "    <tr>\n",
       "      <th>3</th>\n",
       "      <td>4</td>\n",
       "      <td>Jeff Adrien</td>\n",
       "      <td>PF</td>\n",
       "      <td>28</td>\n",
       "      <td>MIN</td>\n",
       "      <td>17</td>\n",
       "      <td>0</td>\n",
       "      <td>215</td>\n",
       "      <td>19</td>\n",
       "      <td>44</td>\n",
       "      <td>...</td>\n",
       "      <td>.579</td>\n",
       "      <td>23</td>\n",
       "      <td>54</td>\n",
       "      <td>77</td>\n",
       "      <td>15</td>\n",
       "      <td>4</td>\n",
       "      <td>9</td>\n",
       "      <td>9</td>\n",
       "      <td>30</td>\n",
       "      <td>60</td>\n",
       "    </tr>\n",
       "    <tr>\n",
       "      <th>4</th>\n",
       "      <td>5</td>\n",
       "      <td>Arron Afflalo</td>\n",
       "      <td>SG</td>\n",
       "      <td>29</td>\n",
       "      <td>TOT</td>\n",
       "      <td>78</td>\n",
       "      <td>72</td>\n",
       "      <td>2502</td>\n",
       "      <td>375</td>\n",
       "      <td>884</td>\n",
       "      <td>...</td>\n",
       "      <td>.843</td>\n",
       "      <td>27</td>\n",
       "      <td>220</td>\n",
       "      <td>247</td>\n",
       "      <td>129</td>\n",
       "      <td>41</td>\n",
       "      <td>7</td>\n",
       "      <td>116</td>\n",
       "      <td>167</td>\n",
       "      <td>1035</td>\n",
       "    </tr>\n",
       "    <tr>\n",
       "      <th>...</th>\n",
       "      <td>...</td>\n",
       "      <td>...</td>\n",
       "      <td>...</td>\n",
       "      <td>...</td>\n",
       "      <td>...</td>\n",
       "      <td>...</td>\n",
       "      <td>...</td>\n",
       "      <td>...</td>\n",
       "      <td>...</td>\n",
       "      <td>...</td>\n",
       "      <td>...</td>\n",
       "      <td>...</td>\n",
       "      <td>...</td>\n",
       "      <td>...</td>\n",
       "      <td>...</td>\n",
       "      <td>...</td>\n",
       "      <td>...</td>\n",
       "      <td>...</td>\n",
       "      <td>...</td>\n",
       "      <td>...</td>\n",
       "      <td>...</td>\n",
       "    </tr>\n",
       "    <tr>\n",
       "      <th>670</th>\n",
       "      <td>490</td>\n",
       "      <td>Thaddeus Young</td>\n",
       "      <td>PF</td>\n",
       "      <td>26</td>\n",
       "      <td>TOT</td>\n",
       "      <td>76</td>\n",
       "      <td>68</td>\n",
       "      <td>2434</td>\n",
       "      <td>451</td>\n",
       "      <td>968</td>\n",
       "      <td>...</td>\n",
       "      <td>.655</td>\n",
       "      <td>127</td>\n",
       "      <td>284</td>\n",
       "      <td>411</td>\n",
       "      <td>173</td>\n",
       "      <td>124</td>\n",
       "      <td>25</td>\n",
       "      <td>117</td>\n",
       "      <td>171</td>\n",
       "      <td>1071</td>\n",
       "    </tr>\n",
       "    <tr>\n",
       "      <th>671</th>\n",
       "      <td>490</td>\n",
       "      <td>Thaddeus Young</td>\n",
       "      <td>PF</td>\n",
       "      <td>26</td>\n",
       "      <td>MIN</td>\n",
       "      <td>48</td>\n",
       "      <td>48</td>\n",
       "      <td>1605</td>\n",
       "      <td>289</td>\n",
       "      <td>641</td>\n",
       "      <td>...</td>\n",
       "      <td>.682</td>\n",
       "      <td>75</td>\n",
       "      <td>170</td>\n",
       "      <td>245</td>\n",
       "      <td>135</td>\n",
       "      <td>86</td>\n",
       "      <td>17</td>\n",
       "      <td>75</td>\n",
       "      <td>115</td>\n",
       "      <td>685</td>\n",
       "    </tr>\n",
       "    <tr>\n",
       "      <th>672</th>\n",
       "      <td>490</td>\n",
       "      <td>Thaddeus Young</td>\n",
       "      <td>PF</td>\n",
       "      <td>26</td>\n",
       "      <td>BRK</td>\n",
       "      <td>28</td>\n",
       "      <td>20</td>\n",
       "      <td>829</td>\n",
       "      <td>162</td>\n",
       "      <td>327</td>\n",
       "      <td>...</td>\n",
       "      <td>.606</td>\n",
       "      <td>52</td>\n",
       "      <td>114</td>\n",
       "      <td>166</td>\n",
       "      <td>38</td>\n",
       "      <td>38</td>\n",
       "      <td>8</td>\n",
       "      <td>42</td>\n",
       "      <td>56</td>\n",
       "      <td>386</td>\n",
       "    </tr>\n",
       "    <tr>\n",
       "      <th>673</th>\n",
       "      <td>491</td>\n",
       "      <td>Cody Zeller</td>\n",
       "      <td>C</td>\n",
       "      <td>22</td>\n",
       "      <td>CHO</td>\n",
       "      <td>62</td>\n",
       "      <td>45</td>\n",
       "      <td>1487</td>\n",
       "      <td>172</td>\n",
       "      <td>373</td>\n",
       "      <td>...</td>\n",
       "      <td>.774</td>\n",
       "      <td>97</td>\n",
       "      <td>265</td>\n",
       "      <td>362</td>\n",
       "      <td>100</td>\n",
       "      <td>34</td>\n",
       "      <td>49</td>\n",
       "      <td>62</td>\n",
       "      <td>156</td>\n",
       "      <td>472</td>\n",
       "    </tr>\n",
       "    <tr>\n",
       "      <th>674</th>\n",
       "      <td>492</td>\n",
       "      <td>Tyler Zeller</td>\n",
       "      <td>C</td>\n",
       "      <td>25</td>\n",
       "      <td>BOS</td>\n",
       "      <td>82</td>\n",
       "      <td>59</td>\n",
       "      <td>1731</td>\n",
       "      <td>340</td>\n",
       "      <td>619</td>\n",
       "      <td>...</td>\n",
       "      <td>.823</td>\n",
       "      <td>146</td>\n",
       "      <td>319</td>\n",
       "      <td>465</td>\n",
       "      <td>113</td>\n",
       "      <td>18</td>\n",
       "      <td>52</td>\n",
       "      <td>76</td>\n",
       "      <td>205</td>\n",
       "      <td>833</td>\n",
       "    </tr>\n",
       "  </tbody>\n",
       "</table>\n",
       "<p>675 rows × 30 columns</p>\n",
       "</div>"
      ],
      "text/plain": [
       "      Rk          Player Pos Age   Tm   G  GS    MP   FG  FGA  ...   FT%  ORB  \\\n",
       "0      1      Quincy Acy  PF  24  NYK  68  22  1287  152  331  ...  .784   79   \n",
       "1      2    Jordan Adams  SG  20  MEM  30   0   248   35   86  ...  .609    9   \n",
       "2      3    Steven Adams   C  21  OKC  70  67  1771  217  399  ...  .502  199   \n",
       "3      4     Jeff Adrien  PF  28  MIN  17   0   215   19   44  ...  .579   23   \n",
       "4      5   Arron Afflalo  SG  29  TOT  78  72  2502  375  884  ...  .843   27   \n",
       "..   ...             ...  ..  ..  ...  ..  ..   ...  ...  ...  ...   ...  ...   \n",
       "670  490  Thaddeus Young  PF  26  TOT  76  68  2434  451  968  ...  .655  127   \n",
       "671  490  Thaddeus Young  PF  26  MIN  48  48  1605  289  641  ...  .682   75   \n",
       "672  490  Thaddeus Young  PF  26  BRK  28  20   829  162  327  ...  .606   52   \n",
       "673  491     Cody Zeller   C  22  CHO  62  45  1487  172  373  ...  .774   97   \n",
       "674  492    Tyler Zeller   C  25  BOS  82  59  1731  340  619  ...  .823  146   \n",
       "\n",
       "     DRB  TRB  AST  STL BLK  TOV   PF   PTS  \n",
       "0    222  301   68   27  22   60  147   398  \n",
       "1     19   28   16   16   7   14   24    94  \n",
       "2    324  523   66   38  86   99  222   537  \n",
       "3     54   77   15    4   9    9   30    60  \n",
       "4    220  247  129   41   7  116  167  1035  \n",
       "..   ...  ...  ...  ...  ..  ...  ...   ...  \n",
       "670  284  411  173  124  25  117  171  1071  \n",
       "671  170  245  135   86  17   75  115   685  \n",
       "672  114  166   38   38   8   42   56   386  \n",
       "673  265  362  100   34  49   62  156   472  \n",
       "674  319  465  113   18  52   76  205   833  \n",
       "\n",
       "[675 rows x 30 columns]"
      ]
     },
     "execution_count": 7,
     "metadata": {},
     "output_type": "execute_result"
    }
   ],
   "source": [
    "df[0]"
   ]
  },
  {
   "cell_type": "code",
   "execution_count": 9,
   "id": "ccef3b16",
   "metadata": {},
   "outputs": [
    {
     "data": {
      "text/plain": [
       "pandas.core.frame.DataFrame"
      ]
     },
     "execution_count": 9,
     "metadata": {},
     "output_type": "execute_result"
    }
   ],
   "source": [
    "type(df[0])"
   ]
  },
  {
   "cell_type": "code",
   "execution_count": 14,
   "id": "9423cda8",
   "metadata": {},
   "outputs": [],
   "source": [
    "data = pd.read_html('https://stats.espncricinfo.com/ci/engine/stats/index.html?class=3;id=6;type=team')"
   ]
  },
  {
   "cell_type": "code",
   "execution_count": 15,
   "id": "eb230726",
   "metadata": {},
   "outputs": [
    {
     "data": {
      "text/plain": [
       "7"
      ]
     },
     "execution_count": 15,
     "metadata": {},
     "output_type": "execute_result"
    }
   ],
   "source": [
    "len(data)"
   ]
  },
  {
   "cell_type": "code",
   "execution_count": 16,
   "id": "0db648b7",
   "metadata": {},
   "outputs": [
    {
     "data": {
      "text/html": [
       "<div>\n",
       "<style scoped>\n",
       "    .dataframe tbody tr th:only-of-type {\n",
       "        vertical-align: middle;\n",
       "    }\n",
       "\n",
       "    .dataframe tbody tr th {\n",
       "        vertical-align: top;\n",
       "    }\n",
       "\n",
       "    .dataframe thead th {\n",
       "        text-align: right;\n",
       "    }\n",
       "</style>\n",
       "<table border=\"1\" class=\"dataframe\">\n",
       "  <thead>\n",
       "    <tr style=\"text-align: right;\">\n",
       "      <th></th>\n",
       "      <th>0</th>\n",
       "    </tr>\n",
       "  </thead>\n",
       "  <tbody>\n",
       "    <tr>\n",
       "      <th>0</th>\n",
       "      <td>Basic filter  | Advanced filter  Team: all tea...</td>\n",
       "    </tr>\n",
       "  </tbody>\n",
       "</table>\n",
       "</div>"
      ],
      "text/plain": [
       "                                                   0\n",
       "0  Basic filter  | Advanced filter  Team: all tea..."
      ]
     },
     "execution_count": 16,
     "metadata": {},
     "output_type": "execute_result"
    }
   ],
   "source": [
    "data[0]"
   ]
  },
  {
   "cell_type": "code",
   "execution_count": 17,
   "id": "7702c682",
   "metadata": {},
   "outputs": [
    {
     "data": {
      "text/html": [
       "<div>\n",
       "<style scoped>\n",
       "    .dataframe tbody tr th:only-of-type {\n",
       "        vertical-align: middle;\n",
       "    }\n",
       "\n",
       "    .dataframe tbody tr th {\n",
       "        vertical-align: top;\n",
       "    }\n",
       "\n",
       "    .dataframe thead th {\n",
       "        text-align: right;\n",
       "    }\n",
       "</style>\n",
       "<table border=\"1\" class=\"dataframe\">\n",
       "  <thead>\n",
       "    <tr style=\"text-align: right;\">\n",
       "      <th></th>\n",
       "      <th>0</th>\n",
       "      <th>1</th>\n",
       "      <th>2</th>\n",
       "    </tr>\n",
       "  </thead>\n",
       "  <tbody>\n",
       "    <tr>\n",
       "      <th>0</th>\n",
       "      <td>NaN</td>\n",
       "      <td>NaN</td>\n",
       "      <td>NaN</td>\n",
       "    </tr>\n",
       "    <tr>\n",
       "      <th>1</th>\n",
       "      <td>NaN</td>\n",
       "      <td>Basic filter  | Advanced filter  Team: all tea...</td>\n",
       "      <td>NaN</td>\n",
       "    </tr>\n",
       "    <tr>\n",
       "      <th>2</th>\n",
       "      <td>NaN</td>\n",
       "      <td>NaN</td>\n",
       "      <td>NaN</td>\n",
       "    </tr>\n",
       "  </tbody>\n",
       "</table>\n",
       "</div>"
      ],
      "text/plain": [
       "    0                                                  1   2\n",
       "0 NaN                                                NaN NaN\n",
       "1 NaN  Basic filter  | Advanced filter  Team: all tea... NaN\n",
       "2 NaN                                                NaN NaN"
      ]
     },
     "execution_count": 17,
     "metadata": {},
     "output_type": "execute_result"
    }
   ],
   "source": [
    "data[1]"
   ]
  },
  {
   "cell_type": "code",
   "execution_count": 18,
   "id": "056f44ea",
   "metadata": {},
   "outputs": [
    {
     "data": {
      "text/html": [
       "<div>\n",
       "<style scoped>\n",
       "    .dataframe tbody tr th:only-of-type {\n",
       "        vertical-align: middle;\n",
       "    }\n",
       "\n",
       "    .dataframe tbody tr th {\n",
       "        vertical-align: top;\n",
       "    }\n",
       "\n",
       "    .dataframe thead th {\n",
       "        text-align: right;\n",
       "    }\n",
       "</style>\n",
       "<table border=\"1\" class=\"dataframe\">\n",
       "  <thead>\n",
       "    <tr style=\"text-align: right;\">\n",
       "      <th></th>\n",
       "      <th>0</th>\n",
       "      <th>1</th>\n",
       "      <th>2</th>\n",
       "    </tr>\n",
       "  </thead>\n",
       "  <tbody>\n",
       "    <tr>\n",
       "      <th>0</th>\n",
       "      <td>NaN</td>\n",
       "      <td>NaN</td>\n",
       "      <td>NaN</td>\n",
       "    </tr>\n",
       "    <tr>\n",
       "      <th>1</th>\n",
       "      <td>Overall figures Innings by innings list Match ...</td>\n",
       "      <td>Series averages Ground averages By host countr...</td>\n",
       "      <td>By year of match start By season Overall extra...</td>\n",
       "    </tr>\n",
       "  </tbody>\n",
       "</table>\n",
       "</div>"
      ],
      "text/plain": [
       "                                                   0  \\\n",
       "0                                                NaN   \n",
       "1  Overall figures Innings by innings list Match ...   \n",
       "\n",
       "                                                   1  \\\n",
       "0                                                NaN   \n",
       "1  Series averages Ground averages By host countr...   \n",
       "\n",
       "                                                   2  \n",
       "0                                                NaN  \n",
       "1  By year of match start By season Overall extra...  "
      ]
     },
     "execution_count": 18,
     "metadata": {},
     "output_type": "execute_result"
    }
   ],
   "source": [
    "data[3]"
   ]
  },
  {
   "cell_type": "code",
   "execution_count": 19,
   "id": "102215fd",
   "metadata": {},
   "outputs": [],
   "source": [
    "data = pd.read_html('https://stats.espncricinfo.com/ci/engine/stats/index.html?class=1;filter=advanced;type=batting')"
   ]
  },
  {
   "cell_type": "code",
   "execution_count": 20,
   "id": "454772a1",
   "metadata": {},
   "outputs": [
    {
     "data": {
      "text/plain": [
       "20"
      ]
     },
     "execution_count": 20,
     "metadata": {},
     "output_type": "execute_result"
    }
   ],
   "source": [
    "len(data)"
   ]
  },
  {
   "cell_type": "code",
   "execution_count": 9,
   "id": "90c52ffd",
   "metadata": {},
   "outputs": [
    {
     "data": {
      "text/plain": [
       "''"
      ]
     },
     "execution_count": 9,
     "metadata": {},
     "output_type": "execute_result"
    }
   ],
   "source": [
    "b[0:100:-1]"
   ]
  },
  {
   "cell_type": "code",
   "execution_count": null,
   "id": "4ef3281c",
   "metadata": {},
   "outputs": [],
   "source": [
    "a = r\"C:\\Users\\Priti\\Downloads\\sample-csv\"\n",
    "b = \"\\locations.csv\"\n",
    "c = a+b\n",
    "print(c)\n"
   ]
  }
 ],
 "metadata": {
  "kernelspec": {
   "display_name": "Python 3 (ipykernel)",
   "language": "python",
   "name": "python3"
  },
  "language_info": {
   "codemirror_mode": {
    "name": "ipython",
    "version": 3
   },
   "file_extension": ".py",
   "mimetype": "text/x-python",
   "name": "python",
   "nbconvert_exporter": "python",
   "pygments_lexer": "ipython3",
   "version": "3.9.13"
  }
 },
 "nbformat": 4,
 "nbformat_minor": 5
}
