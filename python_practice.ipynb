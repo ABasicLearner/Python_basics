{
 "cells": [
  {
   "cell_type": "code",
   "execution_count": 8,
   "id": "28089a6e",
   "metadata": {},
   "outputs": [
    {
     "name": "stdout",
     "output_type": "stream",
     "text": [
      "6\n",
      "-2 5 2 3 4  1\n",
      "4\n"
     ]
    }
   ],
   "source": [
    "if __name__ == '__main__':\n",
    "    n = int(input())\n",
    "    arr = map(int, input().split())\n",
    "\n",
    "arr = list(arr)\n",
    "max = arr[0]\n",
    "for i in range(1, n):\n",
    "    if arr[i]>max:\n",
    "        max = arr[i]\n",
    "        \n",
    "runner = arr[0]\n",
    "for i in range(1, n):\n",
    "    if arr[i]>runner and arr[i]<max:\n",
    "        runner = arr[i]\n",
    "        \n",
    "print(runner)\n"
   ]
  },
  {
   "cell_type": "code",
   "execution_count": 9,
   "id": "2849c390",
   "metadata": {},
   "outputs": [
    {
     "name": "stdout",
     "output_type": "stream",
     "text": [
      "5\n",
      "1 8 6 7 9\n",
      "7\n"
     ]
    }
   ],
   "source": [
    "if __name__ == '__main__':\n",
    "    n = int(input())\n",
    "    arr = map(int, input().split())\n",
    "\n",
    "arr = list(arr)\n",
    "win = arr[0]\n",
    "runner = arr[0]\n",
    "if n>=2 and n<=10:\n",
    "    for i in range(1, n):\n",
    "        if arr[i]>win:\n",
    "            win = arr[i]\n",
    "        if arr[i]>runner and arr[i]<win:\n",
    "            runner = arr[i]\n",
    "        \n",
    "print(runner)"
   ]
  },
  {
   "cell_type": "code",
   "execution_count": 22,
   "id": "6f95b0a8",
   "metadata": {},
   "outputs": [
    {
     "name": "stdout",
     "output_type": "stream",
     "text": [
      "5\n",
      "a\n",
      "12\n",
      "c\n",
      "56\n",
      "b\n",
      "89\n",
      "m\n",
      "21\n",
      "vv\n",
      "99\n",
      "21.0\n"
     ]
    }
   ],
   "source": [
    "if __name__ == '__main__':\n",
    "    students = []\n",
    "    for i in range(int(input())): \n",
    "        name = input()\n",
    "        score = float(input())\n",
    "        student_info = [name, score]\n",
    "        students.append(student_info)\n",
    "\n",
    "min = float('inf')\n",
    "second_min = float('inf')\n",
    "\n",
    "for student in students:\n",
    "    score = student[1]\n",
    "    if score < min:\n",
    "        min = score\n",
    "    if score > min and score < second_min:\n",
    "        second_min = score\n",
    "        \n",
    "print(second_min)"
   ]
  },
  {
   "cell_type": "code",
   "execution_count": null,
   "id": "aa429497",
   "metadata": {},
   "outputs": [],
   "source": [
    "if __name__ == '__main__':\n",
    "    students = []\n",
    "    for i in range(int(input())):\n",
    "        name = input()\n",
    "        score = float(input())\n",
    "        student_info = [name, score]\n",
    "        students.append(student_info)\n",
    "\n",
    "    # Find the minimum and second minimum scores\n",
    "    min_score = float('inf')\n",
    "    second_min_score = float('inf')\n",
    "    \n",
    "    for student in students:\n",
    "        score = student[1]\n",
    "        \n",
    "        if score < min_score:\n",
    "            second_min_score = min_score\n",
    "            min_score = score\n",
    "        elif score < second_min_score and score != min_score:\n",
    "            second_min_score = score\n",
    "\n",
    "    print(second_min_score)\n"
   ]
  },
  {
   "cell_type": "code",
   "execution_count": 9,
   "id": "017843a5",
   "metadata": {},
   "outputs": [
    {
     "name": "stdout",
     "output_type": "stream",
     "text": [
      "5\n",
      "e\n",
      "11\n",
      "v\n",
      "5\n",
      "y\n",
      "78\n",
      "h\n",
      "21\n",
      "f\n",
      "66\n",
      "e\n"
     ]
    }
   ],
   "source": [
    "if __name__ == '__main__':\n",
    "    students = []\n",
    "    for _ in range(int(input())):\n",
    "        name = input()\n",
    "        score = float(input())\n",
    "        student_info = [name, score]\n",
    "        students.append(student_info)\n",
    "\n",
    "    # Find the minimum and second minimum scores\n",
    "    min_score = float('inf')\n",
    "    second_min_score = float('inf')\n",
    "\n",
    "    for student in students:\n",
    "        score = student[1]\n",
    "        if score < min_score:\n",
    "            second_min_score = min_score\n",
    "            min_score = score\n",
    "        elif score != min_score and score < second_min_score:\n",
    "            second_min_score = score\n",
    "\n",
    "    # Find names of students with the second lowest score\n",
    "    second_lowest_students = [student[0] for student in students if student[1] == second_min_score]\n",
    "    second_lowest_students.sort()\n",
    "\n",
    "    # Print names of students with the second lowest score\n",
    "    for name in second_lowest_students:\n",
    "        print(name)\n"
   ]
  },
  {
   "cell_type": "markdown",
   "id": "1a15fb4d",
   "metadata": {},
   "source": [
    "###### "
   ]
  }
 ],
 "metadata": {
  "kernelspec": {
   "display_name": "Python 3 (ipykernel)",
   "language": "python",
   "name": "python3"
  },
  "language_info": {
   "codemirror_mode": {
    "name": "ipython",
    "version": 3
   },
   "file_extension": ".py",
   "mimetype": "text/x-python",
   "name": "python",
   "nbconvert_exporter": "python",
   "pygments_lexer": "ipython3",
   "version": "3.9.13"
  }
 },
 "nbformat": 4,
 "nbformat_minor": 5
}
